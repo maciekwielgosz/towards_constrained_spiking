{
  "nbformat": 4,
  "nbformat_minor": 0,
  "metadata": {
    "colab": {
      "name": "pomulak_ReSuMe.ipynb",
      "provenance": [],
      "collapsed_sections": [],
      "authorship_tag": "ABX9TyM5eHmPF6QRqVanYuUUb6+S",
      "include_colab_link": true
    },
    "kernelspec": {
      "name": "python3",
      "display_name": "Python 3"
    },
    "language_info": {
      "name": "python"
    }
  },
  "cells": [
    {
      "cell_type": "markdown",
      "metadata": {
        "id": "view-in-github",
        "colab_type": "text"
      },
      "source": [
        "<a href=\"https://colab.research.google.com/github/maciekwielgosz/towards_constrained_spiking/blob/main/pomulak_ReSuMe.ipynb\" target=\"_parent\"><img src=\"https://colab.research.google.com/assets/colab-badge.svg\" alt=\"Open In Colab\"/></a>"
      ]
    },
    {
      "cell_type": "markdown",
      "source": [
        "**This is a naive implementation of the ReSuMe - \"New Supervised Learning Method for Spiking Neural Networks\" paper**"
      ],
      "metadata": {
        "id": "vCiR9yaFhKgA"
      }
    },
    {
      "cell_type": "code",
      "source": [
        "# imports and constants\n",
        "from math import exp\n",
        "import matplotlib.pyplot as plt\n",
        "TAU = 2"
      ],
      "metadata": {
        "id": "vPtPLSGGjmNX"
      },
      "execution_count": null,
      "outputs": []
    },
    {
      "cell_type": "code",
      "source": [
        "# define basic functions\n",
        "def low_pass(data, time_index):\n",
        "  result = 0\n",
        "  for i in range(len(data)):\n",
        "    if time_index < i:\n",
        "      result += exp((-1 * time_index + data[i]) / TAU )\n",
        "  \n",
        "  return result\n"
      ],
      "metadata": {
        "id": "TYDV4ZIChyUy"
      },
      "execution_count": null,
      "outputs": []
    },
    {
      "cell_type": "code",
      "execution_count": null,
      "metadata": {
        "id": "hqYcj28LhFK6"
      },
      "outputs": [],
      "source": [
        "# get simple data for a neuron with only one input and one output\n",
        "s_d = [1, 0, 0, 1, 1, 1, 1, 0] # teacher data\n",
        "s_l = [1, 0, 1, 0, 1, 1, 1, 0] # output on the synapse\n",
        "\n",
        "\n",
        "s_in =[1, 0, 0, 1, 1, 1, 1, 0] # input data"
      ]
    },
    {
      "cell_type": "code",
      "source": [
        "# performance index -> L\n",
        "def performance_index(s_d, s_l):\n",
        "  # it is assumed that |s_d| = |s_l|\n",
        "  result = 0\n",
        "  for i in range(len(s_d)):\n",
        "    result += abs(low_pass(s_d, i) - low_pass(s_l, i))\n",
        "  \n",
        "  return result\n"
      ],
      "metadata": {
        "id": "Er3iN-fRjBq0"
      },
      "execution_count": null,
      "outputs": []
    },
    {
      "cell_type": "code",
      "source": [
        "# compute low_pass\n",
        "result_s_d = []\n",
        "result_s_l = []\n",
        "for i in range(len(s_d)):\n",
        "  result_s_d.append(low_pass(s_d, i))\n",
        "  result_s_l.append(low_pass(s_l, i))\n",
        "\n",
        "plt.plot(result_s_d)\n",
        "plt.plot(result_s_l)\n"
      ],
      "metadata": {
        "colab": {
          "base_uri": "https://localhost:8080/",
          "height": 286
        },
        "id": "QZTDby1xjg0I",
        "outputId": "4b68b5d3-9585-4274-96c6-63b2ad0c424e"
      },
      "execution_count": null,
      "outputs": [
        {
          "output_type": "execute_result",
          "data": {
            "text/plain": [
              "[<matplotlib.lines.Line2D at 0x7f6f91fc4290>]"
            ]
          },
          "metadata": {},
          "execution_count": 17
        },
        {
          "output_type": "display_data",
          "data": {
            "text/plain": [
              "<Figure size 432x288 with 1 Axes>"
            ],
            "image/png": "[encoded data removed]"
          },
          "metadata": {
            "needs_background": "light"
          }
        }
      ]
    },
    {
      "cell_type": "code",
      "source": [
        "# compute L\n",
        "L = performance_index(s_d, s_l)\n",
        "print(L)"
      ],
      "metadata": {
        "id": "TEL8LFtEnzAU",
        "colab": {
          "base_uri": "https://localhost:8080/"
        },
        "outputId": "5f544719-261e-48b8-d451-a1aeeb65c24a"
      },
      "execution_count": null,
      "outputs": [
        {
          "output_type": "stream",
          "name": "stdout",
          "text": [
            "0.2386512185411913\n"
          ]
        }
      ]
    },
    {
      "cell_type": "code",
      "source": [
        ""
      ],
      "metadata": {
        "id": "T7OQD4a7g2M8"
      },
      "execution_count": null,
      "outputs": []
    },
    {
      "cell_type": "markdown",
      "source": [
        ""
      ],
      "metadata": {
        "id": "1n3c2BvxFeO-"
      }
    }
  ]
}